{
  "nbformat": 4,
  "nbformat_minor": 0,
  "metadata": {
    "colab": {
      "provenance": []
    },
    "kernelspec": {
      "name": "python3",
      "display_name": "Python 3"
    },
    "language_info": {
      "name": "python"
    }
  },
  "cells": [
    {
      "cell_type": "code",
      "source": [
        "%%capture\n",
        "!pip install transformers\n",
        "!pip install pytorch-lightning\n",
        "!pip install datasets\n",
        "# install this module for extracting info from fas file instead of doing by hand\n",
        "!pip install biopython"
      ],
      "metadata": {
        "id": "1hikfkTDU3Ut"
      },
      "execution_count": 5,
      "outputs": []
    },
    {
      "cell_type": "code",
      "source": [
        "#base of the model\n",
        "import transformers\n",
        "import torch\n",
        "import torch.nn as nn\n",
        "#for data manipulation\n",
        "import pandas as pd\n",
        "import os\n",
        "import torch.optim as optim\n",
        "from sklearn.model_selection import train_test_split\n",
        "from tensorflow.keras.utils import to_categorical\n",
        "from sklearn.preprocessing import LabelEncoder\n",
        "from transformers import AutoModel, AutoTokenizer\n",
        "from transformers import BertModel, AutoTokenizer, BertTokenizer\n",
        "from Bio import SeqIO\n",
        "from torch.utils.data import Dataset, DataLoader\n",
        "#for spliting the data in train and test\n",
        "from sklearn import model_selection\n",
        "from torch import nn, optim\n"
      ],
      "metadata": {
        "id": "EZU8DaaXVWHh"
      },
      "execution_count": 6,
      "outputs": []
    },
    {
      "cell_type": "code",
      "source": [
        "#change the directory to your directory where your sequences are\n",
        "#%cd /content/drive/MyDrive/cs612_sequences"
      ],
      "metadata": {
        "id": "nmr_GJ-jJ4rp"
      },
      "execution_count": 7,
      "outputs": []
    },
    {
      "cell_type": "markdown",
      "source": [
        "Our dataset comprises a folder containing ten FASTA files, each file consisting of numerous sequence names referred to as \"sequences.\" In addition to the existing data, we are introducing an additional class as a label. This label will be represented by the file names, indicating the family to which the various sequences belong."
      ],
      "metadata": {
        "id": "2bsUdm01KLgT"
      }
    },
    {
      "cell_type": "code",
      "source": [
        "class SequenceBuilder:\n",
        "    def __init__(self, folder_path):\n",
        "        self.folder_path = folder_path\n",
        "\n",
        "    def sequence_builder(self):\n",
        "        sequences = {}\n",
        "        data = []\n",
        "\n",
        "        for filename in os.listdir(self.folder_path):\n",
        "            file_path = os.path.join(self.folder_path, filename)\n",
        "            if os.path.isfile(file_path):  # Exclude directories\n",
        "                for record in SeqIO.parse(file_path, \"fasta\"):\n",
        "                    sequence_name = record.id\n",
        "                    sequence = str(record.seq)\n",
        "                    sequences[sequence_name] = [sequence, filename]\n",
        "\n",
        "        # Build a dataframe\n",
        "        for key, value in sequences.items():\n",
        "            data.append([key, value[0], value[1]])\n",
        "        df = pd.DataFrame(data, columns=['seq name', 'seq', 'class or file name'])\n",
        "        return df\n"
      ],
      "metadata": {
        "id": "wgYbXdxmJkwZ"
      },
      "execution_count": 8,
      "outputs": []
    },
    {
      "cell_type": "code",
      "source": [
        "#build a dataframe# Example usage\n",
        "folder_path =  \"/content/drive/MyDrive/cs612_sequences\"\n",
        "builder = SequenceBuilder(folder_path)\n",
        "df = builder.sequence_builder()\n",
        "\n",
        "#make sure to change the directory before saving or it will go exacly to the fas file location\n",
        "#df.to_csv('Sequence DataFrame.csv', index = False)"
      ],
      "metadata": {
        "id": "rxVoA_gVl7lw"
      },
      "execution_count": 9,
      "outputs": []
    },
    {
      "cell_type": "code",
      "source": [
        "df = pd.read_csv('/content/drive/MyDrive/Sequence DataFrame.csv')"
      ],
      "metadata": {
        "id": "OkbGfjymXeE8"
      },
      "execution_count": 10,
      "outputs": []
    },
    {
      "cell_type": "code",
      "source": [
        "df.head()"
      ],
      "metadata": {
        "id": "j-CwLVmfXyyQ",
        "colab": {
          "base_uri": "https://localhost:8080/",
          "height": 206
        },
        "outputId": "0a85c0bb-de6e-416f-a2c5-c454a2446b5f"
      },
      "execution_count": 11,
      "outputs": [
        {
          "output_type": "execute_result",
          "data": {
            "text/plain": [
              "                  seq name                                                seq  \\\n",
              "0                      NaN  MSITLSDSAAARVNTFLANRGKGFGLRLGVRTSGCSGMAYVLEFVD...   \n",
              "1  B629741_C4GI86_C4GI79_7  ---------------------------DYQEKKLREQGVAVQGDQI...   \n",
              "2  B439851_B5FLC1_B5FLB9_2  ------------------------------------TGVSVTRSGI...   \n",
              "3  B929713_H1NJT0_H1NJT3_3  ---------------------------DRQAEEIKQEKVERVGEGI...   \n",
              "4  B350702_A2VW97_A2VXA5_8  ------------------------------------TGTQVTEQPL...   \n",
              "\n",
              "      class or file name  \n",
              "0  ISCA_ISCR_20_id90.fas  \n",
              "1  YFIB_YJAB_20_id90.fas  \n",
              "2  YFIB_YJAB_20_id90.fas  \n",
              "3  YFIB_YJAB_20_id90.fas  \n",
              "4  YFIB_YJAB_20_id90.fas  "
            ],
            "text/html": [
              "\n",
              "  <div id=\"df-c8e6f8a4-c3b1-40dd-a005-7f9e2a6c560c\">\n",
              "    <div class=\"colab-df-container\">\n",
              "      <div>\n",
              "<style scoped>\n",
              "    .dataframe tbody tr th:only-of-type {\n",
              "        vertical-align: middle;\n",
              "    }\n",
              "\n",
              "    .dataframe tbody tr th {\n",
              "        vertical-align: top;\n",
              "    }\n",
              "\n",
              "    .dataframe thead th {\n",
              "        text-align: right;\n",
              "    }\n",
              "</style>\n",
              "<table border=\"1\" class=\"dataframe\">\n",
              "  <thead>\n",
              "    <tr style=\"text-align: right;\">\n",
              "      <th></th>\n",
              "      <th>seq name</th>\n",
              "      <th>seq</th>\n",
              "      <th>class or file name</th>\n",
              "    </tr>\n",
              "  </thead>\n",
              "  <tbody>\n",
              "    <tr>\n",
              "      <th>0</th>\n",
              "      <td>NaN</td>\n",
              "      <td>MSITLSDSAAARVNTFLANRGKGFGLRLGVRTSGCSGMAYVLEFVD...</td>\n",
              "      <td>ISCA_ISCR_20_id90.fas</td>\n",
              "    </tr>\n",
              "    <tr>\n",
              "      <th>1</th>\n",
              "      <td>B629741_C4GI86_C4GI79_7</td>\n",
              "      <td>---------------------------DYQEKKLREQGVAVQGDQI...</td>\n",
              "      <td>YFIB_YJAB_20_id90.fas</td>\n",
              "    </tr>\n",
              "    <tr>\n",
              "      <th>2</th>\n",
              "      <td>B439851_B5FLC1_B5FLB9_2</td>\n",
              "      <td>------------------------------------TGVSVTRSGI...</td>\n",
              "      <td>YFIB_YJAB_20_id90.fas</td>\n",
              "    </tr>\n",
              "    <tr>\n",
              "      <th>3</th>\n",
              "      <td>B929713_H1NJT0_H1NJT3_3</td>\n",
              "      <td>---------------------------DRQAEEIKQEKVERVGEGI...</td>\n",
              "      <td>YFIB_YJAB_20_id90.fas</td>\n",
              "    </tr>\n",
              "    <tr>\n",
              "      <th>4</th>\n",
              "      <td>B350702_A2VW97_A2VXA5_8</td>\n",
              "      <td>------------------------------------TGTQVTEQPL...</td>\n",
              "      <td>YFIB_YJAB_20_id90.fas</td>\n",
              "    </tr>\n",
              "  </tbody>\n",
              "</table>\n",
              "</div>\n",
              "      <button class=\"colab-df-convert\" onclick=\"convertToInteractive('df-c8e6f8a4-c3b1-40dd-a005-7f9e2a6c560c')\"\n",
              "              title=\"Convert this dataframe to an interactive table.\"\n",
              "              style=\"display:none;\">\n",
              "        \n",
              "  <svg xmlns=\"http://www.w3.org/2000/svg\" height=\"24px\"viewBox=\"0 0 24 24\"\n",
              "       width=\"24px\">\n",
              "    <path d=\"M0 0h24v24H0V0z\" fill=\"none\"/>\n",
              "    <path d=\"M18.56 5.44l.94 2.06.94-2.06 2.06-.94-2.06-.94-.94-2.06-.94 2.06-2.06.94zm-11 1L8.5 8.5l.94-2.06 2.06-.94-2.06-.94L8.5 2.5l-.94 2.06-2.06.94zm10 10l.94 2.06.94-2.06 2.06-.94-2.06-.94-.94-2.06-.94 2.06-2.06.94z\"/><path d=\"M17.41 7.96l-1.37-1.37c-.4-.4-.92-.59-1.43-.59-.52 0-1.04.2-1.43.59L10.3 9.45l-7.72 7.72c-.78.78-.78 2.05 0 2.83L4 21.41c.39.39.9.59 1.41.59.51 0 1.02-.2 1.41-.59l7.78-7.78 2.81-2.81c.8-.78.8-2.07 0-2.86zM5.41 20L4 18.59l7.72-7.72 1.47 1.35L5.41 20z\"/>\n",
              "  </svg>\n",
              "      </button>\n",
              "      \n",
              "  <style>\n",
              "    .colab-df-container {\n",
              "      display:flex;\n",
              "      flex-wrap:wrap;\n",
              "      gap: 12px;\n",
              "    }\n",
              "\n",
              "    .colab-df-convert {\n",
              "      background-color: #E8F0FE;\n",
              "      border: none;\n",
              "      border-radius: 50%;\n",
              "      cursor: pointer;\n",
              "      display: none;\n",
              "      fill: #1967D2;\n",
              "      height: 32px;\n",
              "      padding: 0 0 0 0;\n",
              "      width: 32px;\n",
              "    }\n",
              "\n",
              "    .colab-df-convert:hover {\n",
              "      background-color: #E2EBFA;\n",
              "      box-shadow: 0px 1px 2px rgba(60, 64, 67, 0.3), 0px 1px 3px 1px rgba(60, 64, 67, 0.15);\n",
              "      fill: #174EA6;\n",
              "    }\n",
              "\n",
              "    [theme=dark] .colab-df-convert {\n",
              "      background-color: #3B4455;\n",
              "      fill: #D2E3FC;\n",
              "    }\n",
              "\n",
              "    [theme=dark] .colab-df-convert:hover {\n",
              "      background-color: #434B5C;\n",
              "      box-shadow: 0px 1px 3px 1px rgba(0, 0, 0, 0.15);\n",
              "      filter: drop-shadow(0px 1px 2px rgba(0, 0, 0, 0.3));\n",
              "      fill: #FFFFFF;\n",
              "    }\n",
              "  </style>\n",
              "\n",
              "      <script>\n",
              "        const buttonEl =\n",
              "          document.querySelector('#df-c8e6f8a4-c3b1-40dd-a005-7f9e2a6c560c button.colab-df-convert');\n",
              "        buttonEl.style.display =\n",
              "          google.colab.kernel.accessAllowed ? 'block' : 'none';\n",
              "\n",
              "        async function convertToInteractive(key) {\n",
              "          const element = document.querySelector('#df-c8e6f8a4-c3b1-40dd-a005-7f9e2a6c560c');\n",
              "          const dataTable =\n",
              "            await google.colab.kernel.invokeFunction('convertToInteractive',\n",
              "                                                     [key], {});\n",
              "          if (!dataTable) return;\n",
              "\n",
              "          const docLinkHtml = 'Like what you see? Visit the ' +\n",
              "            '<a target=\"_blank\" href=https://colab.research.google.com/notebooks/data_table.ipynb>data table notebook</a>'\n",
              "            + ' to learn more about interactive tables.';\n",
              "          element.innerHTML = '';\n",
              "          dataTable['output_type'] = 'display_data';\n",
              "          await google.colab.output.renderOutput(dataTable, element);\n",
              "          const docLink = document.createElement('div');\n",
              "          docLink.innerHTML = docLinkHtml;\n",
              "          element.appendChild(docLink);\n",
              "        }\n",
              "      </script>\n",
              "    </div>\n",
              "  </div>\n",
              "  "
            ]
          },
          "metadata": {},
          "execution_count": 11
        }
      ]
    },
    {
      "cell_type": "code",
      "source": [
        "#THIS BLOCK IS OK\n",
        "\n",
        "df_seq_list = df[['seq']]\n",
        "labels = df['class or file name']\n",
        "\n",
        "max_len = 317\n",
        "\n",
        "# Split the data into training and validation sets\n",
        "train_X, val_X, train_y, val_y = train_test_split(df_seq_list, labels, test_size=0.2, random_state=42)\n",
        "\n",
        "# Save the training data to a CSV file\n",
        "train_X.to_csv('train_data.csv', index=False)\n",
        "val_X.to_csv('val_data.csv', index=False)\n",
        "\n",
        "print(len(train_X),len(train_y))"
      ],
      "metadata": {
        "colab": {
          "base_uri": "https://localhost:8080/"
        },
        "id": "CGMzd2CCtMcU",
        "outputId": "91c69c19-7f15-4ee4-e435-ffbaa98bcf63"
      },
      "execution_count": 12,
      "outputs": [
        {
          "output_type": "stream",
          "name": "stdout",
          "text": [
            "1356 1356\n"
          ]
        }
      ]
    },
    {
      "cell_type": "code",
      "source": [
        "class DataHandler(Dataset):\n",
        "    def __init__(self, data, labels, tokenizer, max_len=317):\n",
        "        self.data = data\n",
        "        self.labels = labels\n",
        "        self.tokenizer = tokenizer\n",
        "        self.max_len = max_len\n",
        "        self.label_encoder = LabelEncoder()\n",
        "        self.label_encoder.fit(labels)\n",
        "\n",
        "    def __len__(self):\n",
        "        return len(self.data)\n",
        "\n",
        "    def __getitem__(self, index):\n",
        "        sequence = self.data.iloc[index]['seq']\n",
        "        label = self.labels.iloc[index]\n",
        "\n",
        "        # Tokenize the sequence\n",
        "        tokens = self.tokenizer.encode_plus(\n",
        "            sequence,\n",
        "            max_length=self.max_len,\n",
        "            padding='max_length',\n",
        "            truncation=True,\n",
        "            return_tensors='pt'\n",
        "        )\n",
        "\n",
        "        # Encode the label\n",
        "        label_encoded = self.label_encoder.transform([label])[0]\n",
        "\n",
        "        # One-hot encode the label\n",
        "        label_one_hot = to_categorical(label_encoded, num_classes=10)\n",
        "\n",
        "        return {\n",
        "            'input_ids': tokens['input_ids'].flatten(),\n",
        "            'attention_mask': tokens['attention_mask'].flatten(),\n",
        "            'labels': label_one_hot\n",
        "        }\n"
      ],
      "metadata": {
        "id": "aMYJzFK8qwSx"
      },
      "execution_count": 13,
      "outputs": []
    },
    {
      "cell_type": "code",
      "source": [
        "#to use the pretrained model/weights\n",
        "checkpoint = 'bert-base-uncased'\n",
        "tokenizer = AutoTokenizer.from_pretrained(checkpoint)\n",
        "\n",
        "data_path = 'train_data.csv'  # Path to the CSV file\n",
        "datahandler_train = DataHandler(train_X, train_y, tokenizer)\n",
        "datahandler_val = DataHandler(val_X, val_y, tokenizer)"
      ],
      "metadata": {
        "id": "8X4SQn_jX0tS"
      },
      "execution_count": 14,
      "outputs": []
    },
    {
      "cell_type": "markdown",
      "source": [
        "Now that we have initialized the DataHandler and prepared the training data, we can proceed with training your model"
      ],
      "metadata": {
        "id": "MgoqpPlHZLro"
      }
    },
    {
      "cell_type": "code",
      "source": [
        "from transformers import AutoModel, AutoTokenizer\n",
        "import torch\n",
        "import torch.nn as nn\n",
        "import torch.optim as optim\n",
        "from torch.utils.data import DataLoader\n",
        "\n",
        "# Define your MyModel class\n",
        "class MyModel(nn.Module):\n",
        "    def __init__(self, checkpoint, num_classes):\n",
        "        super(MyModel, self).__init__()\n",
        "        self.bert = AutoModel.from_pretrained(checkpoint)\n",
        "        self.linear = nn.Linear(self.bert.config.hidden_size, num_classes)\n",
        "\n",
        "        # Accessing BERT model's configuration\n",
        "        self.bert_config = self.bert.config\n",
        "\n",
        "    def forward(self, input_ids, attention_mask):\n",
        "        outputs = self.bert(input_ids=input_ids, attention_mask=attention_mask)\n",
        "        pooled_output = outputs.pooler_output\n",
        "        logits = self.linear(pooled_output)\n",
        "        return logits\n",
        "\n",
        "\n",
        "# build the tokenizer and model\n",
        "tokenizer = AutoTokenizer.from_pretrained('bert-base-uncased')\n",
        "model = MyModel('bert-base-uncased', 10)\n",
        "model.bert_config.hidden_dropout_prob = 0.2\n",
        "\n"
      ],
      "metadata": {
        "colab": {
          "base_uri": "https://localhost:8080/"
        },
        "id": "8qI0oXxqIJwi",
        "outputId": "2494b536-78ab-49bb-d767-ef371b421843"
      },
      "execution_count": 15,
      "outputs": [
        {
          "output_type": "stream",
          "name": "stderr",
          "text": [
            "Some weights of the model checkpoint at bert-base-uncased were not used when initializing BertModel: ['cls.predictions.bias', 'cls.predictions.transform.LayerNorm.weight', 'cls.predictions.transform.dense.bias', 'cls.predictions.transform.dense.weight', 'cls.predictions.transform.LayerNorm.bias', 'cls.seq_relationship.weight', 'cls.seq_relationship.bias']\n",
            "- This IS expected if you are initializing BertModel from the checkpoint of a model trained on another task or with another architecture (e.g. initializing a BertForSequenceClassification model from a BertForPreTraining model).\n",
            "- This IS NOT expected if you are initializing BertModel from the checkpoint of a model that you expect to be exactly identical (initializing a BertForSequenceClassification model from a BertForSequenceClassification model).\n"
          ]
        }
      ]
    },
    {
      "cell_type": "code",
      "source": [
        "#we can change everything here to customize the model\n",
        "model.bert_config"
      ],
      "metadata": {
        "colab": {
          "base_uri": "https://localhost:8080/"
        },
        "id": "HevUsQKE-jaN",
        "outputId": "4c03bffe-5ed1-4f2b-befc-e2a7564a381c"
      },
      "execution_count": 16,
      "outputs": [
        {
          "output_type": "execute_result",
          "data": {
            "text/plain": [
              "BertConfig {\n",
              "  \"_name_or_path\": \"bert-base-uncased\",\n",
              "  \"architectures\": [\n",
              "    \"BertForMaskedLM\"\n",
              "  ],\n",
              "  \"attention_probs_dropout_prob\": 0.1,\n",
              "  \"classifier_dropout\": null,\n",
              "  \"gradient_checkpointing\": false,\n",
              "  \"hidden_act\": \"gelu\",\n",
              "  \"hidden_dropout_prob\": 0.2,\n",
              "  \"hidden_size\": 768,\n",
              "  \"initializer_range\": 0.02,\n",
              "  \"intermediate_size\": 3072,\n",
              "  \"layer_norm_eps\": 1e-12,\n",
              "  \"max_position_embeddings\": 512,\n",
              "  \"model_type\": \"bert\",\n",
              "  \"num_attention_heads\": 12,\n",
              "  \"num_hidden_layers\": 12,\n",
              "  \"pad_token_id\": 0,\n",
              "  \"position_embedding_type\": \"absolute\",\n",
              "  \"transformers_version\": \"4.30.2\",\n",
              "  \"type_vocab_size\": 2,\n",
              "  \"use_cache\": true,\n",
              "  \"vocab_size\": 30522\n",
              "}"
            ]
          },
          "metadata": {},
          "execution_count": 16
        }
      ]
    },
    {
      "cell_type": "code",
      "source": [
        "class TrainingLoop:\n",
        "    def __init__(self, model, datahandler_train, datahandler_valid, batch_size, loss_fn, optimizer):\n",
        "        self.model = model\n",
        "        self.train_loader = DataLoader(datahandler_train, batch_size=batch_size, shuffle=True)\n",
        "        self.valid_loader = DataLoader(datahandler_valid, batch_size=batch_size, shuffle=False)\n",
        "        self.loss_fn = loss_fn\n",
        "        self.optimizer = optimizer\n",
        "\n",
        "    def train(self):\n",
        "        self.model.train()  # Set the model to training mode\n",
        "\n",
        "        for batch in self.train_loader:\n",
        "            # Training code\n",
        "\n",
        "          self.model.eval()  # Set the model to evaluation mode\n",
        "          total_loss = 0.0\n",
        "          total_correct = 0\n",
        "          total_samples = 0\n",
        "\n",
        "        with torch.no_grad():\n",
        "            for batch in self.valid_loader:\n",
        "                input_ids = batch['input_ids']\n",
        "                attention_mask = batch['attention_mask']\n",
        "                labels = batch['labels']\n",
        "\n",
        "                outputs = self.model(input_ids, attention_mask)\n",
        "\n",
        "                loss = self.loss_fn(outputs, torch.argmax(labels, dim=1))\n",
        "                total_loss += loss.item()\n",
        "\n",
        "                predictions = torch.argmax(outputs, dim=1)\n",
        "                total_correct += (predictions == torch.argmax(labels, dim=1)).sum().item()\n",
        "                total_samples += labels.size(0)\n",
        "\n",
        "        avg_loss = total_loss / len(self.valid_loader)\n",
        "        accuracy = total_correct / total_samples\n",
        "\n",
        "        print('Validation Loss:', avg_loss)\n",
        "        print('Validation Accuracy:', accuracy)\n"
      ],
      "metadata": {
        "id": "DFsOX2Npdrqy"
      },
      "execution_count": 17,
      "outputs": []
    },
    {
      "cell_type": "code",
      "source": [
        "from torch import nn, optim\n",
        "from torch.utils.data import DataLoader\n",
        "\n",
        "batch_size = 32\n",
        "loss_fn = nn.CrossEntropyLoss()\n",
        "optimizer = optim.Adam(model.parameters(), lr=0.001)\n",
        "\n",
        "training_loop = TrainingLoop(model, datahandler_train, datahandler_val, batch_size, loss_fn, optimizer)\n"
      ],
      "metadata": {
        "id": "rxrlVE2FGcQj"
      },
      "execution_count": 19,
      "outputs": []
    },
    {
      "cell_type": "code",
      "source": [
        "training_loop.train()\n"
      ],
      "metadata": {
        "colab": {
          "base_uri": "https://localhost:8080/"
        },
        "id": "S5cwYR9XItf1",
        "outputId": "441870ae-aba8-4f43-be4c-6a8a776dbc11"
      },
      "execution_count": 20,
      "outputs": [
        {
          "output_type": "stream",
          "name": "stdout",
          "text": [
            "Validation Loss: 2.3823482990264893\n",
            "Validation Accuracy: 0.1\n"
          ]
        }
      ]
    }
  ]
}